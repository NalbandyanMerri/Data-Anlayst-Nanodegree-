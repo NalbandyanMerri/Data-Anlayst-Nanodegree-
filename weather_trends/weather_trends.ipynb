{
  "nbformat": 4,
  "nbformat_minor": 0,
  "metadata": {
    "colab": {
      "name": "weather_trends.ipynb",
      "provenance": []
    },
    "kernelspec": {
      "name": "python3",
      "display_name": "Python 3"
    }
  },
  "cells": [
    {
      "cell_type": "code",
      "metadata": {
        "id": "dSIhewCKDi0i",
        "colab_type": "code",
        "colab": {}
      },
      "source": [
        "import numpy as np\n",
        "import pandas as pd\n",
        "import matplotlib.pyplot as plt"
      ],
      "execution_count": 0,
      "outputs": []
    },
    {
      "cell_type": "code",
      "metadata": {
        "id": "1ARSR4NrDvvK",
        "colab_type": "code",
        "colab": {}
      },
      "source": [
        "paris_data= pd.read_csv('results.csv')\n",
        "global_data= pd.read_csv('results (1).csv')"
      ],
      "execution_count": 0,
      "outputs": []
    },
    {
      "cell_type": "code",
      "metadata": {
        "id": "itybuNpdEOlb",
        "colab_type": "code",
        "outputId": "1e50d10f-7cac-4bd9-a0f9-9cb14847c83d",
        "colab": {
          "base_uri": "https://localhost:8080/",
          "height": 202
        }
      },
      "source": [
        "paris_data.tail()"
      ],
      "execution_count": 41,
      "outputs": [
        {
          "output_type": "execute_result",
          "data": {
            "text/html": [
              "<div>\n",
              "<style scoped>\n",
              "    .dataframe tbody tr th:only-of-type {\n",
              "        vertical-align: middle;\n",
              "    }\n",
              "\n",
              "    .dataframe tbody tr th {\n",
              "        vertical-align: top;\n",
              "    }\n",
              "\n",
              "    .dataframe thead th {\n",
              "        text-align: right;\n",
              "    }\n",
              "</style>\n",
              "<table border=\"1\" class=\"dataframe\">\n",
              "  <thead>\n",
              "    <tr style=\"text-align: right;\">\n",
              "      <th></th>\n",
              "      <th>year</th>\n",
              "      <th>city</th>\n",
              "      <th>country</th>\n",
              "      <th>avg_temp</th>\n",
              "    </tr>\n",
              "  </thead>\n",
              "  <tbody>\n",
              "    <tr>\n",
              "      <th>266</th>\n",
              "      <td>2009</td>\n",
              "      <td>Paris</td>\n",
              "      <td>France</td>\n",
              "      <td>11.46</td>\n",
              "    </tr>\n",
              "    <tr>\n",
              "      <th>267</th>\n",
              "      <td>2010</td>\n",
              "      <td>Paris</td>\n",
              "      <td>France</td>\n",
              "      <td>10.41</td>\n",
              "    </tr>\n",
              "    <tr>\n",
              "      <th>268</th>\n",
              "      <td>2011</td>\n",
              "      <td>Paris</td>\n",
              "      <td>France</td>\n",
              "      <td>12.33</td>\n",
              "    </tr>\n",
              "    <tr>\n",
              "      <th>269</th>\n",
              "      <td>2012</td>\n",
              "      <td>Paris</td>\n",
              "      <td>France</td>\n",
              "      <td>11.22</td>\n",
              "    </tr>\n",
              "    <tr>\n",
              "      <th>270</th>\n",
              "      <td>2013</td>\n",
              "      <td>Paris</td>\n",
              "      <td>France</td>\n",
              "      <td>11.01</td>\n",
              "    </tr>\n",
              "  </tbody>\n",
              "</table>\n",
              "</div>"
            ],
            "text/plain": [
              "     year   city country  avg_temp\n",
              "266  2009  Paris  France     11.46\n",
              "267  2010  Paris  France     10.41\n",
              "268  2011  Paris  France     12.33\n",
              "269  2012  Paris  France     11.22\n",
              "270  2013  Paris  France     11.01"
            ]
          },
          "metadata": {
            "tags": []
          },
          "execution_count": 41
        }
      ]
    },
    {
      "cell_type": "code",
      "metadata": {
        "id": "ShmEvsBWEheG",
        "colab_type": "code",
        "outputId": "611d3865-b8bb-4422-8b74-7126896fe490",
        "colab": {
          "base_uri": "https://localhost:8080/",
          "height": 202
        }
      },
      "source": [
        "global_data.tail()"
      ],
      "execution_count": 42,
      "outputs": [
        {
          "output_type": "execute_result",
          "data": {
            "text/html": [
              "<div>\n",
              "<style scoped>\n",
              "    .dataframe tbody tr th:only-of-type {\n",
              "        vertical-align: middle;\n",
              "    }\n",
              "\n",
              "    .dataframe tbody tr th {\n",
              "        vertical-align: top;\n",
              "    }\n",
              "\n",
              "    .dataframe thead th {\n",
              "        text-align: right;\n",
              "    }\n",
              "</style>\n",
              "<table border=\"1\" class=\"dataframe\">\n",
              "  <thead>\n",
              "    <tr style=\"text-align: right;\">\n",
              "      <th></th>\n",
              "      <th>year</th>\n",
              "      <th>avg_temp</th>\n",
              "    </tr>\n",
              "  </thead>\n",
              "  <tbody>\n",
              "    <tr>\n",
              "      <th>261</th>\n",
              "      <td>2011</td>\n",
              "      <td>9.52</td>\n",
              "    </tr>\n",
              "    <tr>\n",
              "      <th>262</th>\n",
              "      <td>2012</td>\n",
              "      <td>9.51</td>\n",
              "    </tr>\n",
              "    <tr>\n",
              "      <th>263</th>\n",
              "      <td>2013</td>\n",
              "      <td>9.61</td>\n",
              "    </tr>\n",
              "    <tr>\n",
              "      <th>264</th>\n",
              "      <td>2014</td>\n",
              "      <td>9.57</td>\n",
              "    </tr>\n",
              "    <tr>\n",
              "      <th>265</th>\n",
              "      <td>2015</td>\n",
              "      <td>9.83</td>\n",
              "    </tr>\n",
              "  </tbody>\n",
              "</table>\n",
              "</div>"
            ],
            "text/plain": [
              "     year  avg_temp\n",
              "261  2011      9.52\n",
              "262  2012      9.51\n",
              "263  2013      9.61\n",
              "264  2014      9.57\n",
              "265  2015      9.83"
            ]
          },
          "metadata": {
            "tags": []
          },
          "execution_count": 42
        }
      ]
    },
    {
      "cell_type": "code",
      "metadata": {
        "id": "9W30mxVhEk4o",
        "colab_type": "code",
        "outputId": "a3a81d28-b83c-4b80-874d-310b383bcb9c",
        "colab": {
          "base_uri": "https://localhost:8080/",
          "height": 173
        }
      },
      "source": [
        "global_data.info()"
      ],
      "execution_count": 43,
      "outputs": [
        {
          "output_type": "stream",
          "text": [
            "<class 'pandas.core.frame.DataFrame'>\n",
            "RangeIndex: 266 entries, 0 to 265\n",
            "Data columns (total 2 columns):\n",
            " #   Column    Non-Null Count  Dtype  \n",
            "---  ------    --------------  -----  \n",
            " 0   year      266 non-null    int64  \n",
            " 1   avg_temp  266 non-null    float64\n",
            "dtypes: float64(1), int64(1)\n",
            "memory usage: 4.3 KB\n"
          ],
          "name": "stdout"
        }
      ]
    },
    {
      "cell_type": "code",
      "metadata": {
        "id": "NZ6Y_yQFEtwu",
        "colab_type": "code",
        "outputId": "763a337b-c272-4f1d-b869-09b86b3c7ef1",
        "colab": {
          "base_uri": "https://localhost:8080/",
          "height": 208
        }
      },
      "source": [
        "paris_data.info()"
      ],
      "execution_count": 44,
      "outputs": [
        {
          "output_type": "stream",
          "text": [
            "<class 'pandas.core.frame.DataFrame'>\n",
            "RangeIndex: 271 entries, 0 to 270\n",
            "Data columns (total 4 columns):\n",
            " #   Column    Non-Null Count  Dtype  \n",
            "---  ------    --------------  -----  \n",
            " 0   year      271 non-null    int64  \n",
            " 1   city      271 non-null    object \n",
            " 2   country   271 non-null    object \n",
            " 3   avg_temp  267 non-null    float64\n",
            "dtypes: float64(1), int64(1), object(2)\n",
            "memory usage: 8.6+ KB\n"
          ],
          "name": "stdout"
        }
      ]
    },
    {
      "cell_type": "code",
      "metadata": {
        "id": "mIgezP6YEz-D",
        "colab_type": "code",
        "colab": {}
      },
      "source": [
        "paris_data['rolling_average'] = paris_data['avg_temp'].rolling(window=12).mean()\n",
        "global_data['rolling_mean'] = global_data['avg_temp'].rolling(window=12).mean()"
      ],
      "execution_count": 0,
      "outputs": []
    },
    {
      "cell_type": "code",
      "metadata": {
        "id": "gBAEOLPvzNKL",
        "colab_type": "code",
        "colab": {
          "base_uri": "https://localhost:8080/",
          "height": 350
        },
        "outputId": "f2886abf-b169-4bce-d6d3-c6094ea42c16"
      },
      "source": [
        "fig = plt.figure(figsize=(15, 5))\n",
        "\n",
        "ax = plt.gca()\n",
        "\n",
        "paris_data.plot(kind='line', x='year', y='rolling_average', color='blue', label='Paris Temperature', ax=ax)\n",
        "global_data.plot(kind='line', x='year', y='rolling_mean', color='red', label='Global Temperature', ax=ax)\n",
        "ax.set_ylabel('Average temperature in 12 years [°C]')\n",
        "ax.set_xlabel('Year')\n",
        "ax.set_title(\"Paris vs Global temperature over 12 years\")\n",
        "\n",
        "plt.show()"
      ],
      "execution_count": 49,
      "outputs": [
        {
          "output_type": "display_data",
          "data": {
            "image/png": "[encoded data removed]",
            "text/plain": [
              "<Figure size 1080x360 with 1 Axes>"
            ]
          },
          "metadata": {
            "tags": [],
            "needs_background": "light"
          }
        }
      ]
    },
    {
      "cell_type": "code",
      "metadata": {
        "id": "X8R5H0Rk2sCG",
        "colab_type": "code",
        "colab": {
          "base_uri": "https://localhost:8080/",
          "height": 294
        },
        "outputId": "a3af6924-73c3-4f18-df65-b9a83a7d4026"
      },
      "source": [
        "paris_data.describe()"
      ],
      "execution_count": 47,
      "outputs": [
        {
          "output_type": "execute_result",
          "data": {
            "text/html": [
              "<div>\n",
              "<style scoped>\n",
              "    .dataframe tbody tr th:only-of-type {\n",
              "        vertical-align: middle;\n",
              "    }\n",
              "\n",
              "    .dataframe tbody tr th {\n",
              "        vertical-align: top;\n",
              "    }\n",
              "\n",
              "    .dataframe thead th {\n",
              "        text-align: right;\n",
              "    }\n",
              "</style>\n",
              "<table border=\"1\" class=\"dataframe\">\n",
              "  <thead>\n",
              "    <tr style=\"text-align: right;\">\n",
              "      <th></th>\n",
              "      <th>year</th>\n",
              "      <th>avg_temp</th>\n",
              "      <th>rolling_average</th>\n",
              "    </tr>\n",
              "  </thead>\n",
              "  <tbody>\n",
              "    <tr>\n",
              "      <th>count</th>\n",
              "      <td>271.000000</td>\n",
              "      <td>267.000000</td>\n",
              "      <td>253.000000</td>\n",
              "    </tr>\n",
              "    <tr>\n",
              "      <th>mean</th>\n",
              "      <td>1878.000000</td>\n",
              "      <td>10.376105</td>\n",
              "      <td>10.390596</td>\n",
              "    </tr>\n",
              "    <tr>\n",
              "      <th>std</th>\n",
              "      <td>78.375166</td>\n",
              "      <td>0.799216</td>\n",
              "      <td>0.368811</td>\n",
              "    </tr>\n",
              "    <tr>\n",
              "      <th>min</th>\n",
              "      <td>1743.000000</td>\n",
              "      <td>4.730000</td>\n",
              "      <td>9.726667</td>\n",
              "    </tr>\n",
              "    <tr>\n",
              "      <th>25%</th>\n",
              "      <td>1810.500000</td>\n",
              "      <td>9.990000</td>\n",
              "      <td>10.157500</td>\n",
              "    </tr>\n",
              "    <tr>\n",
              "      <th>50%</th>\n",
              "      <td>1878.000000</td>\n",
              "      <td>10.390000</td>\n",
              "      <td>10.344167</td>\n",
              "    </tr>\n",
              "    <tr>\n",
              "      <th>75%</th>\n",
              "      <td>1945.500000</td>\n",
              "      <td>10.800000</td>\n",
              "      <td>10.515833</td>\n",
              "    </tr>\n",
              "    <tr>\n",
              "      <th>max</th>\n",
              "      <td>2013.000000</td>\n",
              "      <td>12.330000</td>\n",
              "      <td>11.605833</td>\n",
              "    </tr>\n",
              "  </tbody>\n",
              "</table>\n",
              "</div>"
            ],
            "text/plain": [
              "              year    avg_temp  rolling_average\n",
              "count   271.000000  267.000000       253.000000\n",
              "mean   1878.000000   10.376105        10.390596\n",
              "std      78.375166    0.799216         0.368811\n",
              "min    1743.000000    4.730000         9.726667\n",
              "25%    1810.500000    9.990000        10.157500\n",
              "50%    1878.000000   10.390000        10.344167\n",
              "75%    1945.500000   10.800000        10.515833\n",
              "max    2013.000000   12.330000        11.605833"
            ]
          },
          "metadata": {
            "tags": []
          },
          "execution_count": 47
        }
      ]
    },
    {
      "cell_type": "code",
      "metadata": {
        "id": "KglRBuz_4tqL",
        "colab_type": "code",
        "colab": {
          "base_uri": "https://localhost:8080/",
          "height": 294
        },
        "outputId": "4ca45d07-98a5-445f-96d2-0a25e14c154a"
      },
      "source": [
        "global_data.describe()"
      ],
      "execution_count": 48,
      "outputs": [
        {
          "output_type": "execute_result",
          "data": {
            "text/html": [
              "<div>\n",
              "<style scoped>\n",
              "    .dataframe tbody tr th:only-of-type {\n",
              "        vertical-align: middle;\n",
              "    }\n",
              "\n",
              "    .dataframe tbody tr th {\n",
              "        vertical-align: top;\n",
              "    }\n",
              "\n",
              "    .dataframe thead th {\n",
              "        text-align: right;\n",
              "    }\n",
              "</style>\n",
              "<table border=\"1\" class=\"dataframe\">\n",
              "  <thead>\n",
              "    <tr style=\"text-align: right;\">\n",
              "      <th></th>\n",
              "      <th>year</th>\n",
              "      <th>avg_temp</th>\n",
              "      <th>rolling_mean</th>\n",
              "    </tr>\n",
              "  </thead>\n",
              "  <tbody>\n",
              "    <tr>\n",
              "      <th>count</th>\n",
              "      <td>266.000000</td>\n",
              "      <td>266.000000</td>\n",
              "      <td>255.000000</td>\n",
              "    </tr>\n",
              "    <tr>\n",
              "      <th>mean</th>\n",
              "      <td>1882.500000</td>\n",
              "      <td>8.369474</td>\n",
              "      <td>8.350611</td>\n",
              "    </tr>\n",
              "    <tr>\n",
              "      <th>std</th>\n",
              "      <td>76.931788</td>\n",
              "      <td>0.584747</td>\n",
              "      <td>0.438758</td>\n",
              "    </tr>\n",
              "    <tr>\n",
              "      <th>min</th>\n",
              "      <td>1750.000000</td>\n",
              "      <td>5.780000</td>\n",
              "      <td>7.268333</td>\n",
              "    </tr>\n",
              "    <tr>\n",
              "      <th>25%</th>\n",
              "      <td>1816.250000</td>\n",
              "      <td>8.082500</td>\n",
              "      <td>8.055833</td>\n",
              "    </tr>\n",
              "    <tr>\n",
              "      <th>50%</th>\n",
              "      <td>1882.500000</td>\n",
              "      <td>8.375000</td>\n",
              "      <td>8.263333</td>\n",
              "    </tr>\n",
              "    <tr>\n",
              "      <th>75%</th>\n",
              "      <td>1948.750000</td>\n",
              "      <td>8.707500</td>\n",
              "      <td>8.635417</td>\n",
              "    </tr>\n",
              "    <tr>\n",
              "      <th>max</th>\n",
              "      <td>2015.000000</td>\n",
              "      <td>9.830000</td>\n",
              "      <td>9.580000</td>\n",
              "    </tr>\n",
              "  </tbody>\n",
              "</table>\n",
              "</div>"
            ],
            "text/plain": [
              "              year    avg_temp  rolling_mean\n",
              "count   266.000000  266.000000    255.000000\n",
              "mean   1882.500000    8.369474      8.350611\n",
              "std      76.931788    0.584747      0.438758\n",
              "min    1750.000000    5.780000      7.268333\n",
              "25%    1816.250000    8.082500      8.055833\n",
              "50%    1882.500000    8.375000      8.263333\n",
              "75%    1948.750000    8.707500      8.635417\n",
              "max    2015.000000    9.830000      9.580000"
            ]
          },
          "metadata": {
            "tags": []
          },
          "execution_count": 48
        }
      ]
    },
    {
      "cell_type": "code",
      "metadata": {
        "id": "hgfufcR84v9g",
        "colab_type": "code",
        "colab": {}
      },
      "source": [
        ""
      ],
      "execution_count": 0,
      "outputs": []
    }
  ]
}